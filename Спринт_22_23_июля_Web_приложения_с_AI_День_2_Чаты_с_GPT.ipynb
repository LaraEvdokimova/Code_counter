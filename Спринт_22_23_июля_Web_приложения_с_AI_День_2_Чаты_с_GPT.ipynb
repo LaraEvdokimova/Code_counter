{
  "cells": [
    {
      "cell_type": "markdown",
      "metadata": {
        "id": "ToSecgru8Wun"
      },
      "source": [
        "#СПРИНТ 23 июля. ChatGPT + Dall-e\n",
        "\n",
        "- Чаты и сообщения (in-memory)\n",
        "- Отправка текста и изображений\n",
        "- Генерация картинок через Dall-e\n",
        "- Интеграция с OpenAI (chatGPT, Dall-e)\n",
        "- Запуск через ngrok для доступа с фронта (Stackblitz)\n",
        "---"
      ]
    },
    {
      "cell_type": "markdown",
      "metadata": {
        "id": "fRahg8ZkumE7"
      },
      "source": [
        "##Библиотеки, импорты"
      ]
    },
    {
      "cell_type": "markdown",
      "metadata": {
        "id": "_SYHj6I0fuwD"
      },
      "source": [
        "###Установка библиотек"
      ]
    },
    {
      "cell_type": "code",
      "execution_count": null,
      "metadata": {
        "id": "SRtaYjoj79Py"
      },
      "outputs": [],
      "source": [
        "# Установка зависимостей\n",
        "!pip install fastapi uvicorn nest-asyncio pyngrok openai aiofiles --quiet"
      ]
    },
    {
      "cell_type": "markdown",
      "metadata": {
        "id": "Na9Z8iQ0f5xm"
      },
      "source": [
        "###Импорты и базовые настройки"
      ]
    },
    {
      "cell_type": "code",
      "execution_count": null,
      "metadata": {
        "id": "M3g4O6T9U5_C"
      },
      "outputs": [],
      "source": [
        "import openai\n",
        "from openai import OpenAI\n",
        "from fastapi import FastAPI, UploadFile, File, Form\n",
        "from fastapi.responses import FileResponse\n",
        "from fastapi.middleware.cors import CORSMiddleware\n",
        "from pydantic import BaseModel\n",
        "from typing import List, Optional, Dict\n",
        "from datetime import datetime\n",
        "import shutil, os\n",
        "import nest_asyncio\n",
        "import uvicorn\n",
        "from pyngrok import ngrok\n",
        "import aiofiles\n",
        "import base64\n",
        "from google.colab import userdata\n",
        "import uuid\n",
        "from typing import List, Optional"
      ]
    },
    {
      "cell_type": "code",
      "execution_count": null,
      "metadata": {
        "id": "banFCXkXU-WW"
      },
      "outputs": [],
      "source": [
        "# Для Colab: разрешаем повторный запуск uvicorn\n",
        "nest_asyncio.apply()\n",
        "\n",
        "# Папка для картинок\n",
        "IMAGES_DIR = '/tmp/chat_images'\n",
        "os.makedirs(IMAGES_DIR, exist_ok=True)\n",
        "\n",
        "app = FastAPI()\n",
        "\n",
        "# CORS для фронта\n",
        "app.add_middleware(\n",
        "    CORSMiddleware,\n",
        "    allow_origins=['*'],\n",
        "    allow_credentials=True,\n",
        "    allow_methods=['*'],    allow_headers=['*'],\n",
        ")"
      ]
    },
    {
      "cell_type": "code",
      "execution_count": null,
      "metadata": {
        "colab": {
          "base_uri": "https://localhost:8080/"
        },
        "id": "ddn3wQOftQmc",
        "outputId": "7b154b6c-3c28-4297-fc2e-d84bf03ad902"
      },
      "outputs": [
        {
          "output_type": "stream",
          "name": "stdout",
          "text": [
            "✅ Ключ OpenAI успешно загружен из секретов.\n"
          ]
        }
      ],
      "source": [
        "# Получаем ключ из секретов Colab\n",
        "try:\n",
        "    api_key = userdata.get('OPENAI_API_KEY')\n",
        "    os.environ['OPENAI_API_KEY'] = api_key\n",
        "\n",
        "    # Теперь можно инициализировать клиент, он подхватит ключ из окружения\n",
        "    client = openai.OpenAI()\n",
        "    # или client = openai.OpenAI(api_key=api_key)\n",
        "\n",
        "    print(\"✅ Ключ OpenAI успешно загружен из секретов.\")\n",
        "\n",
        "except Exception as e:\n",
        "    print(\"🚨 Ошибка: Не удалось найти секрет 'OPENAI_API_KEY'.\")\n",
        "    print(\"👉 Убедитесь, что вы сохранили его в разделе 'Secrets' и включили 'Notebook access'.\")"
      ]
    },
    {
      "cell_type": "code",
      "execution_count": null,
      "metadata": {
        "colab": {
          "base_uri": "https://localhost:8080/"
        },
        "id": "4NUqMXa7tpFN",
        "outputId": "61f84db7-e0ca-4872-ce99-846bfe50e75f"
      },
      "outputs": [
        {
          "output_type": "stream",
          "name": "stdout",
          "text": [
            "Authtoken saved to configuration file: /root/.config/ngrok/ngrok.yml\n",
            "✅ Токен ngrok успешно настроен из секретов.\n"
          ]
        }
      ],
      "source": [
        "# Получаем токен ngrok из секретов\n",
        "!pkill ngrok\n",
        "try:\n",
        "    NGROK_TOKEN = userdata.get('NGROK_AUTHTOKEN')\n",
        "\n",
        "    # Используем f-string для безопасной передачи токена в команду\n",
        "    !ngrok config add-authtoken {NGROK_TOKEN}\n",
        "\n",
        "    print(\"✅ Токен ngrok успешно настроен из секретов.\")\n",
        "\n",
        "except Exception as e:\n",
        "    print(\"🚨 Ошибка: Не удалось найти секрет 'NGROK_AUTHTOKEN'.\")\n",
        "    print(\"👉 Убедитесь, что вы сохранили его в разделе 'Secrets' и включили 'Notebook access'.\")"
      ]
    },
    {
      "cell_type": "markdown",
      "metadata": {
        "id": "UDuQA852gC41"
      },
      "source": [
        "### Pydantic-модели для запросов и ответов"
      ]
    },
    {
      "cell_type": "code",
      "execution_count": null,
      "metadata": {
        "id": "nAfnOcjVVF6p"
      },
      "outputs": [],
      "source": [
        "# In-memory хранилище\n",
        "chats: Dict[str, dict] = {}  # chat_id -> chat dict\n",
        "messages: Dict[str, List[dict]] = {}  # chat_id -> list of messages\n",
        "\n",
        "# Pydantic модели\n",
        "class Chat(BaseModel):\n",
        "    id: str\n",
        "    title: str\n",
        "\n",
        "class Message(BaseModel):\n",
        "    id: str\n",
        "    chat_id: str\n",
        "    role: str  # 'user' | 'assistant'\n",
        "    type: str  # 'text' | 'image'\n",
        "    content: str\n",
        "    created_at: datetime\n",
        "\n",
        "class DalleRequest(BaseModel):\n",
        "    prompt: str\n",
        "\n",
        "class DalleResponse(BaseModel):\n",
        "    image_url: str"
      ]
    },
    {
      "cell_type": "markdown",
      "metadata": {
        "id": "bGDObtI_gMeK"
      },
      "source": [
        "## Функции и эндпоинты"
      ]
    },
    {
      "cell_type": "markdown",
      "source": [
        "###Получение чатов"
      ],
      "metadata": {
        "id": "o5PGwQMhRQ6v"
      }
    },
    {
      "cell_type": "code",
      "source": [
        "def _get_all_chats_as_dtos() -> List[Chat]:\n",
        "    \"\"\"\n",
        "    Извлекает все чаты из глобального хранилища и преобразует их\n",
        "    в список объектов данных (DTO), подходящих для ответа клиенту.\n",
        "    \"\"\"\n",
        "    print(\"\\n-> Извлечение и форматирование списка чатов...\")\n",
        "\n",
        "    # List comprehension инкапсулирован здесь, в \"грязной\" зоне.\n",
        "    chat_list = [Chat(id=cid, title=chat['title']) for cid, chat in chats.items()]\n",
        "\n",
        "    print(f\"   ...Найдено и подготовлено {len(chat_list)} чатов.\")\n",
        "    return chat_list"
      ],
      "metadata": {
        "id": "0QDoxVs2N0QF"
      },
      "execution_count": null,
      "outputs": []
    },
    {
      "cell_type": "markdown",
      "source": [
        "###Создание нового чата"
      ],
      "metadata": {
        "id": "CJt5s-qSRb53"
      }
    },
    {
      "cell_type": "code",
      "source": [
        "def _create_new_chat_session(title: str) -> Chat:\n",
        "    \"\"\"\n",
        "    Создает новую сессию чата в глобальных хранилищах.\n",
        "\n",
        "    - Генерирует уникальный ID.\n",
        "    - Сохраняет название чата.\n",
        "    - Инициализирует пустой список для сообщений.\n",
        "    - Возвращает объект Chat, готовый для отправки клиенту.\n",
        "    \"\"\"\n",
        "    print(f\"\\n-> Создание новой сессии чата с названием: '{title}'\")\n",
        "\n",
        "    chat_id = str(uuid.uuid4())\n",
        "\n",
        "    # Манипуляции с глобальными переменными инкапсулированы здесь\n",
        "    chats[chat_id] = {'title': title}\n",
        "    messages[chat_id] = []\n",
        "\n",
        "    new_chat_dto = Chat(id=chat_id, title=title)\n",
        "\n",
        "    print(f\"   ...Чат успешно создан. ID: {chat_id}\")\n",
        "    return new_chat_dto"
      ],
      "metadata": {
        "id": "sI5DtQbrOXBh"
      },
      "execution_count": null,
      "outputs": []
    },
    {
      "cell_type": "markdown",
      "metadata": {
        "id": "hKJhSuIcvTnP"
      },
      "source": [
        "###Текстовый запрос к GPT"
      ]
    },
    {
      "cell_type": "code",
      "execution_count": null,
      "metadata": {
        "id": "oRlh1l-MrWhj"
      },
      "outputs": [],
      "source": [
        "def _get_text_completion(chat_history: List[Dict]) -> Optional[str]:\n",
        "    \"\"\"Выполняет стандартный текстовый запрос к GPT-4o.\"\"\"\n",
        "    try:\n",
        "        # Отправляем только текстовые сообщения для контекста\n",
        "        text_messages = [\n",
        "            {'role': m['role'], 'content': m['content']}\n",
        "            for m in chat_history if m['type'] == 'text'\n",
        "        ]\n",
        "        if not text_messages:\n",
        "            return None\n",
        "\n",
        "        response = client.chat.completions.create(\n",
        "            model='gpt-4o',\n",
        "            messages=text_messages\n",
        "        )\n",
        "        return response.choices[0].message.content\n",
        "    except Exception as e:\n",
        "        print(f\"Ошибка при вызове OpenAI (text): {e}\")\n",
        "        return None"
      ]
    },
    {
      "cell_type": "markdown",
      "metadata": {
        "id": "dZVNXJ61vkus"
      },
      "source": [
        "###Запрос к GPT с изображением"
      ]
    },
    {
      "cell_type": "code",
      "execution_count": null,
      "metadata": {
        "id": "fCIphjTurdOH"
      },
      "outputs": [],
      "source": [
        "def _get_vision_completion(image_path: str, user_prompt: str) -> Optional[str]:\n",
        "    \"\"\"Выполняет запрос к GPT-4o с изображением (Vision).\"\"\"\n",
        "    try:\n",
        "        with open(image_path, \"rb\") as f:\n",
        "            image_bytes = f.read()\n",
        "        image_b64 = base64.b64encode(image_bytes).decode()\n",
        "\n",
        "        response = client.chat.completions.create(\n",
        "            model=\"gpt-4o\",\n",
        "            messages=[\n",
        "                {\n",
        "                    \"role\": \"user\",\n",
        "                    \"content\": [\n",
        "                        {\"type\": \"text\", \"text\": user_prompt},\n",
        "                        {\"type\": \"image_url\", \"image_url\": {\"url\": f\"data:image/png;base64,{image_b64}\"}}\n",
        "                    ]\n",
        "                }\n",
        "            ],\n",
        "            max_tokens=300,\n",
        "        )\n",
        "        return response.choices[0].message.content\n",
        "    except Exception as e:\n",
        "        print(f\"Ошибка при вызове OpenAI (vision): {e}\")\n",
        "        return None"
      ]
    },
    {
      "cell_type": "markdown",
      "metadata": {
        "id": "DA-ipGy4vw75"
      },
      "source": [
        "###Сохранение загруженного файла"
      ]
    },
    {
      "cell_type": "code",
      "execution_count": null,
      "metadata": {
        "id": "FRzXxEpfrjoB"
      },
      "outputs": [],
      "source": [
        "async def _save_uploaded_image(image: UploadFile) -> str:\n",
        "    \"\"\"Сохраняет загруженный файл и возвращает путь к нему.\"\"\"\n",
        "    filename = f'{uuid.uuid4()}_{image.filename}'\n",
        "    filepath = os.path.join(IMAGES_DIR, filename)\n",
        "    async with aiofiles.open(filepath, 'wb') as out_file:\n",
        "        content = await image.read()\n",
        "        await out_file.write(content)\n",
        "    return filepath"
      ]
    },
    {
      "cell_type": "markdown",
      "metadata": {
        "id": "icpY1Zfav7Cv"
      },
      "source": [
        "###Создание объекта сообщения"
      ]
    },
    {
      "cell_type": "code",
      "execution_count": null,
      "metadata": {
        "id": "MHGIB4Lxrn9I"
      },
      "outputs": [],
      "source": [
        "def _create_message(chat_id: str, role: str, type: str, content: str) -> Dict:\n",
        "    \"\"\"Создает стандартизированный объект сообщения.\"\"\"\n",
        "    return {\n",
        "        'id': str(uuid.uuid4()),\n",
        "        'chat_id': chat_id,\n",
        "        'role': role,\n",
        "        'type': type,\n",
        "        'content': content,\n",
        "        'created_at': datetime.utcnow()\n",
        "    }"
      ]
    },
    {
      "cell_type": "markdown",
      "metadata": {
        "id": "BYvh0ZrqwF-Z"
      },
      "source": [
        "###Обработка текстового сообщения"
      ]
    },
    {
      "cell_type": "code",
      "execution_count": null,
      "metadata": {
        "id": "tLiREVvXrue-"
      },
      "outputs": [],
      "source": [
        "async def _handle_text_message(chat_id: str, text: str, role: str, skip_gpt: bool):\n",
        "    \"\"\"Обрабатывает входящее текстовое сообщение.\"\"\"\n",
        "    if not text or not text.strip():\n",
        "        print(\"Пустое текстовое сообщение, обработка пропущена.\")\n",
        "        return\n",
        "\n",
        "    user_msg = _create_message(chat_id, role, 'text', text)\n",
        "    messages[chat_id].append(user_msg)\n",
        "\n",
        "    if not skip_gpt:\n",
        "        assistant_text = _get_text_completion(messages[chat_id])\n",
        "        if assistant_text:\n",
        "            assistant_msg = _create_message(chat_id, 'assistant', 'text', assistant_text)\n",
        "            messages[chat_id].append(assistant_msg)"
      ]
    },
    {
      "cell_type": "markdown",
      "metadata": {
        "id": "ILTA6T2YwRRR"
      },
      "source": [
        "###Обработка загруженного изображения"
      ]
    },
    {
      "cell_type": "code",
      "execution_count": null,
      "metadata": {
        "id": "xAa3zwf9r48o"
      },
      "outputs": [],
      "source": [
        "async def _handle_uploaded_image(chat_id: str, image: UploadFile, text: Optional[str], role: str):\n",
        "    \"\"\"Обрабатывает загруженное изображение, сохраняет его, добавляет в историю и получает описание от Vision AI.\"\"\"\n",
        "    filepath = await _save_uploaded_image(image)\n",
        "    image_url_for_client = f'/images/{os.path.basename(filepath)}'\n",
        "\n",
        "    user_msg = _create_message(chat_id, role, 'image', image_url_for_client)\n",
        "    messages[chat_id].append(user_msg)\n",
        "\n",
        "    prompt = text or \"Опиши, что изображено на картинке.\"\n",
        "    assistant_text = _get_vision_completion(filepath, prompt)\n",
        "    if assistant_text:\n",
        "        assistant_msg = _create_message(chat_id, 'assistant', 'text', assistant_text)\n",
        "        messages[chat_id].append(assistant_msg)\n",
        "        print('Сообщение ассистента (vision) добавлено.')"
      ]
    },
    {
      "cell_type": "markdown",
      "metadata": {
        "id": "bCVgmlc66tkT"
      },
      "source": [
        "###Обработка сообщения с URL изображения"
      ]
    },
    {
      "cell_type": "code",
      "execution_count": null,
      "metadata": {
        "id": "EsnbjHLl6gIY"
      },
      "outputs": [],
      "source": [
        "def _handle_image_url_message(chat_id: str, image_url: str, role: str):\n",
        "    \"\"\"\n",
        "    Обрабатывает сообщение с URL изображения (например, от DALL-E).\n",
        "    Просто добавляет его в историю чата без вызова AI.\n",
        "    \"\"\"\n",
        "    user_msg = _create_message(chat_id, role, 'image', image_url)\n",
        "    messages[chat_id].append(user_msg)\n",
        "    print(f\"Сообщение с URL изображения добавлено: {image_url}\")"
      ]
    },
    {
      "cell_type": "markdown",
      "source": [
        "###Создание новой сессии для чата"
      ],
      "metadata": {
        "id": "-RQ0WvacSAXV"
      }
    },
    {
      "cell_type": "code",
      "source": [
        "def _initialize_chat_session(chat_id: str) -> None:\n",
        "    \"\"\"\n",
        "    Гарантирует, что для указанного ID чата существуют необходимые структуры данных.\n",
        "    Если чат новый, создает для него пустой список сообщений.\n",
        "    \"\"\"\n",
        "    if chat_id not in messages:\n",
        "        print(f\"   ...Создание новой сессии для чата '{chat_id}'.\")\n",
        "        messages[chat_id] = []"
      ],
      "metadata": {
        "id": "rTY5FAWoR6ha"
      },
      "execution_count": null,
      "outputs": []
    },
    {
      "cell_type": "markdown",
      "source": [
        "###Маршрутизатор обработчиков различных сообщений"
      ],
      "metadata": {
        "id": "ZSboSMrSSNAO"
      }
    },
    {
      "cell_type": "code",
      "source": [
        "async def _dispatch_message_handler(\n",
        "    chat_id: str,\n",
        "    type: str,\n",
        "    text: Optional[str],\n",
        "    image: Optional[UploadFile],\n",
        "    role: str,\n",
        "    skip_gpt: bool\n",
        "):\n",
        "    \"\"\"\n",
        "    Выполняет роль 'маршрутизатора': определяет тип сообщения\n",
        "    и вызывает соответствующий, более специфичный обработчик.\n",
        "    \"\"\"\n",
        "    if type == 'text':\n",
        "        print(\"   -> Маршрут: обработка текстового сообщения.\")\n",
        "        await _handle_text_message(chat_id, text, role, skip_gpt)\n",
        "\n",
        "    elif type == 'image':\n",
        "        if image:\n",
        "            print(\"   -> Маршрут: обработка загруженного изображения.\")\n",
        "            await _handle_uploaded_image(chat_id, image, text, role)\n",
        "        elif text:\n",
        "            print(\"   -> Маршрут: обработка URL изображения.\")\n",
        "            _handle_image_url_message(chat_id, text, role)\n",
        "        else:\n",
        "            # Этот случай обрабатывается здесь, чтобы не усложнять эндпоинт.\n",
        "            print(\"   (!) Предупреждение: Сообщение с типом 'image' не содержит ни файла, ни URL.\")\n",
        "\n",
        "    else:\n",
        "        print(f\"   (!) Ошибка: получен неизвестный тип сообщения '{type}'.\")\n"
      ],
      "metadata": {
        "id": "_cB1Z_OVLXrx"
      },
      "execution_count": null,
      "outputs": []
    },
    {
      "cell_type": "markdown",
      "source": [
        "###Генерация изображения"
      ],
      "metadata": {
        "id": "wZ5Gx1AYSaeS"
      }
    },
    {
      "cell_type": "code",
      "source": [
        "def _generate_image_url_from_prompt(prompt: str) -> Optional[str]:\n",
        "    \"\"\"\n",
        "    Выполняет вызов к API DALL-E для генерации изображения по промпту.\n",
        "\n",
        "    В случае успеха возвращает URL сгенерированного изображения,\n",
        "    в случае ошибки — логирует ее и возвращает None.\n",
        "    \"\"\"\n",
        "    print(f\"\\n-> Отправка запроса в DALL-E с промптом: '{prompt[:70]}...'\")\n",
        "    try:\n",
        "        response = client.images.generate(\n",
        "            model=\"dall-e-2\",\n",
        "            prompt=prompt,\n",
        "            n=1,\n",
        "            size='512x512'\n",
        "        )\n",
        "        image_url = response.data[0].url\n",
        "        print(f\"   ...Изображение успешно сгенерировано. URL: {image_url}\")\n",
        "        return image_url\n",
        "    except Exception as e:\n",
        "        print(f\"   (!) Ошибка при генерации в DALL-E: {e}\")\n",
        "        return None"
      ],
      "metadata": {
        "id": "bQVdgoYJMiOH"
      },
      "execution_count": null,
      "outputs": []
    },
    {
      "cell_type": "markdown",
      "source": [
        "###Поиск пути изображения"
      ],
      "metadata": {
        "id": "YczwrGpkSh8e"
      }
    },
    {
      "cell_type": "code",
      "source": [
        "def _find_image_filepath(filename: str) -> Optional[str]:\n",
        "    \"\"\"\n",
        "    Ищет файл изображения в директории IMAGES_DIR.\n",
        "\n",
        "    Возвращает полный путь к файлу, если он существует, иначе возвращает None.\n",
        "    \"\"\"\n",
        "    print(f\"\\n-> Поиск изображения: '{filename}'\")\n",
        "    filepath = os.path.join(IMAGES_DIR, filename)\n",
        "\n",
        "    if os.path.exists(filepath):\n",
        "        print(f\"   ...Файл найден: {filepath}\")\n",
        "        return filepath\n",
        "\n",
        "    print(f\"   (!) Файл не найден: {filename}\")\n",
        "    return None"
      ],
      "metadata": {
        "id": "ANDUVOnvNDX7"
      },
      "execution_count": null,
      "outputs": []
    },
    {
      "cell_type": "markdown",
      "metadata": {
        "id": "NIVC4IwhwbH7"
      },
      "source": [
        "###Эндпоинты"
      ]
    },
    {
      "cell_type": "code",
      "execution_count": null,
      "metadata": {
        "id": "hBhCtQTt8hDF"
      },
      "outputs": [],
      "source": [
        "# --- Эндпоинты ---\n",
        "\n",
        "# Получение списка чатов с сервера\n",
        "@app.get('/chats', response_model=List[Chat])\n",
        "def get_chats():\n",
        "    \"\"\"\n",
        "    Возвращает список всех существующих чатов.\n",
        "    \"\"\"\n",
        "    # 1. Получить все чаты в готовом для отправки виде.\n",
        "    all_chats = _get_all_chats_as_dtos()\n",
        "\n",
        "    # 2. Вернуть их клиенту.\n",
        "    return all_chats\n",
        "\n",
        "# Создание чата\n",
        "@app.post('/chats', response_model=Chat)\n",
        "def create_chat(title: str = Form(...)):\n",
        "    \"\"\"\n",
        "    Создает новый пустой чат с заданным названием.\n",
        "    \"\"\"\n",
        "    # 1. Вызвать сервис для создания новой сессии чата.\n",
        "    new_chat = _create_new_chat_session(title)\n",
        "\n",
        "    # 2. Вернуть информацию о созданном чате клиенту.\n",
        "    return new_chat\n",
        "\n",
        "# Обработка сообщений (главный эндпоинт чата)\n",
        "@app.post('/chats/{chat_id}/messages', response_model=List[Message])\n",
        "async def post_message(\n",
        "    chat_id: str,\n",
        "    text: Optional[str] = Form(None),\n",
        "    type: str = Form('text'),\n",
        "    image: Optional[UploadFile] = File(None),\n",
        "    skip_gpt: Optional[str] = Form(None),\n",
        "    role: Optional[str] = Form(None)\n",
        "):\n",
        "    \"\"\"\n",
        "    Обрабатывает входящее сообщение, делегируя логику специализированным функциям.\n",
        "    \"\"\"\n",
        "    print(f\"\\n-> Получен запрос в чат '{chat_id}' (тип: {type})\")\n",
        "\n",
        "    # 1. Подготовить сессию чата (создать, если нужно).\n",
        "    _initialize_chat_session(chat_id)\n",
        "\n",
        "    # 2. Выбрать правильный обработчик и выполнить всю логику.\n",
        "    await _dispatch_message_handler(\n",
        "        chat_id=chat_id,\n",
        "        type=type,\n",
        "        text=text,\n",
        "        image=image,\n",
        "        role=(role or 'user'),\n",
        "        skip_gpt=bool(skip_gpt)\n",
        "    )\n",
        "\n",
        "    # 3. Вернуть клиенту актуальное состояние чата.\n",
        "    print(f\"   ...Отправка обновленной истории чата '{chat_id}'.\")\n",
        "    return messages.get(chat_id, [])\n",
        "\n",
        "# Генерация изображений\n",
        "@app.post('/dalle', response_model=DalleResponse)\n",
        "def dalle_generate(req: DalleRequest):\n",
        "    \"\"\"\n",
        "    Генерирует изображение по текстовому запросу, делегируя вызов API.\n",
        "    \"\"\"\n",
        "    # 1. Получить URL изображения по текстовому промпту.\n",
        "    generated_url = _generate_image_url_from_prompt(req.prompt)\n",
        "\n",
        "    # 2. Сформировать и отправить ответ клиенту.\n",
        "    # Если `generated_url` будет None (в случае ошибки), вернется пустая строка.\n",
        "    return DalleResponse(image_url=(generated_url or ''))\n",
        "\n",
        "# Доступ к изображению\n",
        "@app.get('/images/{filename}')\n",
        "def get_image(filename: str):\n",
        "    \"\"\"\n",
        "    Возвращает статический файл изображения, если он существует.\n",
        "    \"\"\"\n",
        "    # 1. Найти путь к файлу.\n",
        "    filepath = _find_image_filepath(filename)\n",
        "\n",
        "    # 2. Если файл найден, вернуть его. Иначе - выбросить ошибку 404.\n",
        "    if filepath:\n",
        "        return FileResponse(filepath)\n",
        "    else:\n",
        "        raise HTTPException(status_code=404, detail=\"Image not found\")"
      ]
    },
    {
      "cell_type": "markdown",
      "metadata": {
        "id": "uOYGSsUGgU-g"
      },
      "source": [
        "## Запуск сервера\n",
        "\n",
        "Полученную ссылку вставьте в переменную BACKEND_URL в конструкторе Stackblitz для запуска фронтенда"
      ]
    },
    {
      "cell_type": "markdown",
      "metadata": {
        "id": "BamtWg8ZCZ_w"
      },
      "source": [
        "[Ссылка на интерфейс (файл App.js в песочнице stackblitz)](https://stackblitz.com/edit/vitejs-vite-cv3qpgno?file=src%2FApp.tsx)"
      ]
    },
    {
      "cell_type": "code",
      "execution_count": null,
      "metadata": {
        "colab": {
          "base_uri": "https://localhost:8080/",
          "height": 1000
        },
        "collapsed": true,
        "id": "dI5kJhLhFPOh",
        "outputId": "3019146c-deb4-4c6c-a605-e2055f6d3a8f"
      },
      "outputs": [
        {
          "metadata": {
            "tags": null
          },
          "name": "stdout",
          "output_type": "stream",
          "text": [
            "Ваш FastAPI backend доступен по адресу: https://708e98dffcaa.ngrok-free.app\n"
          ]
        },
        {
          "metadata": {
            "tags": null
          },
          "name": "stderr",
          "output_type": "stream",
          "text": [
            "INFO:     Started server process [144]\n",
            "INFO:     Waiting for application startup.\n",
            "INFO:     Application startup complete.\n",
            "INFO:     Uvicorn running on http://0.0.0.0:8000 (Press CTRL+C to quit)\n"
          ]
        },
        {
          "metadata": {
            "tags": null
          },
          "name": "stdout",
          "output_type": "stream",
          "text": [
            "\n",
            "-> Создание новой сессии чата с названием: 'Чат 1'\n",
            "   ...Чат успешно создан. ID: 8ddcd08d-225a-4eb1-97c3-3efb19413908\n",
            "INFO:     45.12.254.157:0 - \"POST /chats HTTP/1.1\" 200 OK\n",
            "INFO:     45.12.254.157:0 - \"OPTIONS /chats/8ddcd08d-225a-4eb1-97c3-3efb19413908/messages HTTP/1.1\" 200 OK\n",
            "\n",
            "-> Получен запрос в чат '8ddcd08d-225a-4eb1-97c3-3efb19413908' (тип: text)\n",
            "   -> Маршрут: обработка текстового сообщения.\n",
            "Пустое текстовое сообщение, обработка пропущена.\n",
            "   ...Отправка обновленной истории чата '8ddcd08d-225a-4eb1-97c3-3efb19413908'.\n",
            "INFO:     45.12.254.157:0 - \"POST /chats/8ddcd08d-225a-4eb1-97c3-3efb19413908/messages HTTP/1.1\" 200 OK\n",
            "\n",
            "-> Получен запрос в чат '8ddcd08d-225a-4eb1-97c3-3efb19413908' (тип: text)\n",
            "   -> Маршрут: обработка текстового сообщения.\n",
            "   ...Отправка обновленной истории чата '8ddcd08d-225a-4eb1-97c3-3efb19413908'.\n",
            "INFO:     45.12.254.157:0 - \"POST /chats/8ddcd08d-225a-4eb1-97c3-3efb19413908/messages HTTP/1.1\" 200 OK\n",
            "\n",
            "-> Получен запрос в чат '8ddcd08d-225a-4eb1-97c3-3efb19413908' (тип: text)\n",
            "   -> Маршрут: обработка текстового сообщения.\n",
            "   ...Отправка обновленной истории чата '8ddcd08d-225a-4eb1-97c3-3efb19413908'.\n",
            "INFO:     45.12.254.157:0 - \"POST /chats/8ddcd08d-225a-4eb1-97c3-3efb19413908/messages HTTP/1.1\" 200 OK\n",
            "\n",
            "-> Получен запрос в чат '8ddcd08d-225a-4eb1-97c3-3efb19413908' (тип: image)\n",
            "   -> Маршрут: обработка загруженного изображения.\n",
            "Сообщение ассистента (vision) добавлено.\n",
            "   ...Отправка обновленной истории чата '8ddcd08d-225a-4eb1-97c3-3efb19413908'.\n",
            "INFO:     45.12.254.157:0 - \"POST /chats/8ddcd08d-225a-4eb1-97c3-3efb19413908/messages HTTP/1.1\" 200 OK\n",
            "\n",
            "-> Получен запрос в чат '8ddcd08d-225a-4eb1-97c3-3efb19413908' (тип: text)\n",
            "   -> Маршрут: обработка текстового сообщения.\n",
            "   ...Отправка обновленной истории чата '8ddcd08d-225a-4eb1-97c3-3efb19413908'.\n",
            "INFO:     45.12.254.157:0 - \"POST /chats/8ddcd08d-225a-4eb1-97c3-3efb19413908/messages HTTP/1.1\" 200 OK\n",
            "INFO:     45.12.254.157:0 - \"OPTIONS /dalle HTTP/1.1\" 200 OK\n",
            "\n",
            "-> Отправка запроса в DALL-E с промптом: 'Сгенерируй картинку по следующему описанию: Кот на скейтборде...'\n",
            "   ...Изображение успешно сгенерировано. URL: https://oaidalleapiprodscus.blob.core.windows.net/private/org-YpyuSieozQNwrTwCqnJtFMdk/user-J9egGfAy9yyDciq6YUveCE9t/img-FOTFR0w6BWdGJplsPb45u6XV.png?st=2025-07-23T15%3A33%3A28Z&se=2025-07-23T17%3A33%3A28Z&sp=r&sv=2024-08-04&sr=b&rscd=inline&rsct=image/png&skoid=ed3ea2f9-5e38-44be-9a1b-7c1e65e4d54f&sktid=a48cca56-e6da-484e-a814-9c849652bcb3&skt=2025-07-23T16%3A33%3A28Z&ske=2025-07-24T16%3A33%3A28Z&sks=b&skv=2024-08-04&sig=A6Ms47vyrCssJLfqmdn8Foh6T2E/PmcuLknkvm0KngQ%3D\n",
            "INFO:     45.12.254.157:0 - \"POST /dalle HTTP/1.1\" 200 OK\n",
            "\n",
            "-> Получен запрос в чат '8ddcd08d-225a-4eb1-97c3-3efb19413908' (тип: image)\n",
            "   -> Маршрут: обработка URL изображения.\n",
            "Сообщение с URL изображения добавлено: https://oaidalleapiprodscus.blob.core.windows.net/private/org-YpyuSieozQNwrTwCqnJtFMdk/user-J9egGfAy9yyDciq6YUveCE9t/img-FOTFR0w6BWdGJplsPb45u6XV.png?st=2025-07-23T15%3A33%3A28Z&se=2025-07-23T17%3A33%3A28Z&sp=r&sv=2024-08-04&sr=b&rscd=inline&rsct=image/png&skoid=ed3ea2f9-5e38-44be-9a1b-7c1e65e4d54f&sktid=a48cca56-e6da-484e-a814-9c849652bcb3&skt=2025-07-23T16%3A33%3A28Z&ske=2025-07-24T16%3A33%3A28Z&sks=b&skv=2024-08-04&sig=A6Ms47vyrCssJLfqmdn8Foh6T2E/PmcuLknkvm0KngQ%3D\n",
            "   ...Отправка обновленной истории чата '8ddcd08d-225a-4eb1-97c3-3efb19413908'.\n",
            "INFO:     45.12.254.157:0 - \"POST /chats/8ddcd08d-225a-4eb1-97c3-3efb19413908/messages HTTP/1.1\" 200 OK\n",
            "\n",
            "-> Создание новой сессии чата с названием: 'Чат 2'\n",
            "   ...Чат успешно создан. ID: e5fff2e5-3be1-44ee-a50d-15f19b7504e8\n",
            "INFO:     45.12.254.157:0 - \"POST /chats HTTP/1.1\" 200 OK\n",
            "INFO:     45.12.254.157:0 - \"OPTIONS /chats/e5fff2e5-3be1-44ee-a50d-15f19b7504e8/messages HTTP/1.1\" 200 OK\n",
            "\n",
            "-> Получен запрос в чат 'e5fff2e5-3be1-44ee-a50d-15f19b7504e8' (тип: text)\n",
            "   -> Маршрут: обработка текстового сообщения.\n",
            "Пустое текстовое сообщение, обработка пропущена.\n",
            "   ...Отправка обновленной истории чата 'e5fff2e5-3be1-44ee-a50d-15f19b7504e8'.\n",
            "INFO:     45.12.254.157:0 - \"POST /chats/e5fff2e5-3be1-44ee-a50d-15f19b7504e8/messages HTTP/1.1\" 200 OK\n",
            "\n",
            "-> Получен запрос в чат '8ddcd08d-225a-4eb1-97c3-3efb19413908' (тип: text)\n",
            "   -> Маршрут: обработка текстового сообщения.\n",
            "Пустое текстовое сообщение, обработка пропущена.\n",
            "   ...Отправка обновленной истории чата '8ddcd08d-225a-4eb1-97c3-3efb19413908'.\n",
            "INFO:     45.12.254.157:0 - \"POST /chats/8ddcd08d-225a-4eb1-97c3-3efb19413908/messages HTTP/1.1\" 200 OK\n",
            "\n",
            "-> Получен запрос в чат 'e5fff2e5-3be1-44ee-a50d-15f19b7504e8' (тип: text)\n",
            "   -> Маршрут: обработка текстового сообщения.\n",
            "Пустое текстовое сообщение, обработка пропущена.\n",
            "   ...Отправка обновленной истории чата 'e5fff2e5-3be1-44ee-a50d-15f19b7504e8'.\n",
            "INFO:     45.12.254.157:0 - \"POST /chats/e5fff2e5-3be1-44ee-a50d-15f19b7504e8/messages HTTP/1.1\" 200 OK\n",
            "\n",
            "-> Получен запрос в чат 'e5fff2e5-3be1-44ee-a50d-15f19b7504e8' (тип: text)\n",
            "   -> Маршрут: обработка текстового сообщения.\n",
            "   ...Отправка обновленной истории чата 'e5fff2e5-3be1-44ee-a50d-15f19b7504e8'.\n",
            "INFO:     45.12.254.157:0 - \"POST /chats/e5fff2e5-3be1-44ee-a50d-15f19b7504e8/messages HTTP/1.1\" 200 OK\n"
          ]
        },
        {
          "output_type": "stream",
          "name": "stderr",
          "text": [
            "WARNING:pyngrok.process.ngrok:t=2025-07-23T16:35:37+0000 lvl=warn msg=\"Stopping forwarder\" name=http-8000-03ea52ed-71ed-4b55-9a0d-a0a58112f004 acceptErr=\"failed to accept connection: Listener closed\"\n",
            "INFO:     Shutting down\n",
            "INFO:     Waiting for application shutdown.\n",
            "INFO:     Application shutdown complete.\n",
            "INFO:     Finished server process [144]\n"
          ]
        },
        {
          "output_type": "error",
          "ename": "KeyboardInterrupt",
          "evalue": "",
          "traceback": [
            "\u001b[0;31m---------------------------------------------------------------------------\u001b[0m",
            "\u001b[0;31mKeyboardInterrupt\u001b[0m                         Traceback (most recent call last)",
            "\u001b[0;32m/tmp/ipython-input-21-3141086006.py\u001b[0m in \u001b[0;36m<cell line: 0>\u001b[0;34m()\u001b[0m\n\u001b[1;32m      7\u001b[0m     \u001b[0mconfig\u001b[0m \u001b[0;34m=\u001b[0m \u001b[0muvicorn\u001b[0m\u001b[0;34m.\u001b[0m\u001b[0mConfig\u001b[0m\u001b[0;34m(\u001b[0m\u001b[0mapp\u001b[0m\u001b[0;34m=\u001b[0m\u001b[0mapp\u001b[0m\u001b[0;34m,\u001b[0m \u001b[0mhost\u001b[0m\u001b[0;34m=\u001b[0m\u001b[0;34m\"0.0.0.0\"\u001b[0m\u001b[0;34m,\u001b[0m \u001b[0mport\u001b[0m\u001b[0;34m=\u001b[0m\u001b[0;36m8000\u001b[0m\u001b[0;34m,\u001b[0m \u001b[0mlog_level\u001b[0m\u001b[0;34m=\u001b[0m\u001b[0;34m\"info\"\u001b[0m\u001b[0;34m)\u001b[0m\u001b[0;34m\u001b[0m\u001b[0;34m\u001b[0m\u001b[0m\n\u001b[1;32m      8\u001b[0m     \u001b[0mserver\u001b[0m \u001b[0;34m=\u001b[0m \u001b[0muvicorn\u001b[0m\u001b[0;34m.\u001b[0m\u001b[0mServer\u001b[0m\u001b[0;34m(\u001b[0m\u001b[0mconfig\u001b[0m\u001b[0;34m)\u001b[0m\u001b[0;34m\u001b[0m\u001b[0;34m\u001b[0m\u001b[0m\n\u001b[0;32m----> 9\u001b[0;31m     \u001b[0mserver\u001b[0m\u001b[0;34m.\u001b[0m\u001b[0mrun\u001b[0m\u001b[0;34m(\u001b[0m\u001b[0;34m)\u001b[0m\u001b[0;34m\u001b[0m\u001b[0;34m\u001b[0m\u001b[0m\n\u001b[0m",
            "\u001b[0;32m/usr/local/lib/python3.11/dist-packages/uvicorn/server.py\u001b[0m in \u001b[0;36mrun\u001b[0;34m(self, sockets)\u001b[0m\n\u001b[1;32m     65\u001b[0m     \u001b[0;32mdef\u001b[0m \u001b[0mrun\u001b[0m\u001b[0;34m(\u001b[0m\u001b[0mself\u001b[0m\u001b[0;34m,\u001b[0m \u001b[0msockets\u001b[0m\u001b[0;34m:\u001b[0m \u001b[0mlist\u001b[0m\u001b[0;34m[\u001b[0m\u001b[0msocket\u001b[0m\u001b[0;34m.\u001b[0m\u001b[0msocket\u001b[0m\u001b[0;34m]\u001b[0m \u001b[0;34m|\u001b[0m \u001b[0;32mNone\u001b[0m \u001b[0;34m=\u001b[0m \u001b[0;32mNone\u001b[0m\u001b[0;34m)\u001b[0m \u001b[0;34m->\u001b[0m \u001b[0;32mNone\u001b[0m\u001b[0;34m:\u001b[0m\u001b[0;34m\u001b[0m\u001b[0;34m\u001b[0m\u001b[0m\n\u001b[1;32m     66\u001b[0m         \u001b[0mself\u001b[0m\u001b[0;34m.\u001b[0m\u001b[0mconfig\u001b[0m\u001b[0;34m.\u001b[0m\u001b[0msetup_event_loop\u001b[0m\u001b[0;34m(\u001b[0m\u001b[0;34m)\u001b[0m\u001b[0;34m\u001b[0m\u001b[0;34m\u001b[0m\u001b[0m\n\u001b[0;32m---> 67\u001b[0;31m         \u001b[0;32mreturn\u001b[0m \u001b[0masyncio\u001b[0m\u001b[0;34m.\u001b[0m\u001b[0mrun\u001b[0m\u001b[0;34m(\u001b[0m\u001b[0mself\u001b[0m\u001b[0;34m.\u001b[0m\u001b[0mserve\u001b[0m\u001b[0;34m(\u001b[0m\u001b[0msockets\u001b[0m\u001b[0;34m=\u001b[0m\u001b[0msockets\u001b[0m\u001b[0;34m)\u001b[0m\u001b[0;34m)\u001b[0m\u001b[0;34m\u001b[0m\u001b[0;34m\u001b[0m\u001b[0m\n\u001b[0m\u001b[1;32m     68\u001b[0m \u001b[0;34m\u001b[0m\u001b[0m\n\u001b[1;32m     69\u001b[0m     \u001b[0;32masync\u001b[0m \u001b[0;32mdef\u001b[0m \u001b[0mserve\u001b[0m\u001b[0;34m(\u001b[0m\u001b[0mself\u001b[0m\u001b[0;34m,\u001b[0m \u001b[0msockets\u001b[0m\u001b[0;34m:\u001b[0m \u001b[0mlist\u001b[0m\u001b[0;34m[\u001b[0m\u001b[0msocket\u001b[0m\u001b[0;34m.\u001b[0m\u001b[0msocket\u001b[0m\u001b[0;34m]\u001b[0m \u001b[0;34m|\u001b[0m \u001b[0;32mNone\u001b[0m \u001b[0;34m=\u001b[0m \u001b[0;32mNone\u001b[0m\u001b[0;34m)\u001b[0m \u001b[0;34m->\u001b[0m \u001b[0;32mNone\u001b[0m\u001b[0;34m:\u001b[0m\u001b[0;34m\u001b[0m\u001b[0;34m\u001b[0m\u001b[0m\n",
            "\u001b[0;32m/usr/local/lib/python3.11/dist-packages/nest_asyncio.py\u001b[0m in \u001b[0;36mrun\u001b[0;34m(main, debug)\u001b[0m\n\u001b[1;32m     28\u001b[0m         \u001b[0mtask\u001b[0m \u001b[0;34m=\u001b[0m \u001b[0masyncio\u001b[0m\u001b[0;34m.\u001b[0m\u001b[0mensure_future\u001b[0m\u001b[0;34m(\u001b[0m\u001b[0mmain\u001b[0m\u001b[0;34m)\u001b[0m\u001b[0;34m\u001b[0m\u001b[0;34m\u001b[0m\u001b[0m\n\u001b[1;32m     29\u001b[0m         \u001b[0;32mtry\u001b[0m\u001b[0;34m:\u001b[0m\u001b[0;34m\u001b[0m\u001b[0;34m\u001b[0m\u001b[0m\n\u001b[0;32m---> 30\u001b[0;31m             \u001b[0;32mreturn\u001b[0m \u001b[0mloop\u001b[0m\u001b[0;34m.\u001b[0m\u001b[0mrun_until_complete\u001b[0m\u001b[0;34m(\u001b[0m\u001b[0mtask\u001b[0m\u001b[0;34m)\u001b[0m\u001b[0;34m\u001b[0m\u001b[0;34m\u001b[0m\u001b[0m\n\u001b[0m\u001b[1;32m     31\u001b[0m         \u001b[0;32mfinally\u001b[0m\u001b[0;34m:\u001b[0m\u001b[0;34m\u001b[0m\u001b[0;34m\u001b[0m\u001b[0m\n\u001b[1;32m     32\u001b[0m             \u001b[0;32mif\u001b[0m \u001b[0;32mnot\u001b[0m \u001b[0mtask\u001b[0m\u001b[0;34m.\u001b[0m\u001b[0mdone\u001b[0m\u001b[0;34m(\u001b[0m\u001b[0;34m)\u001b[0m\u001b[0;34m:\u001b[0m\u001b[0;34m\u001b[0m\u001b[0;34m\u001b[0m\u001b[0m\n",
            "\u001b[0;32m/usr/local/lib/python3.11/dist-packages/nest_asyncio.py\u001b[0m in \u001b[0;36mrun_until_complete\u001b[0;34m(self, future)\u001b[0m\n\u001b[1;32m     90\u001b[0m                 \u001b[0mf\u001b[0m\u001b[0;34m.\u001b[0m\u001b[0m_log_destroy_pending\u001b[0m \u001b[0;34m=\u001b[0m \u001b[0;32mFalse\u001b[0m\u001b[0;34m\u001b[0m\u001b[0;34m\u001b[0m\u001b[0m\n\u001b[1;32m     91\u001b[0m             \u001b[0;32mwhile\u001b[0m \u001b[0;32mnot\u001b[0m \u001b[0mf\u001b[0m\u001b[0;34m.\u001b[0m\u001b[0mdone\u001b[0m\u001b[0;34m(\u001b[0m\u001b[0;34m)\u001b[0m\u001b[0;34m:\u001b[0m\u001b[0;34m\u001b[0m\u001b[0;34m\u001b[0m\u001b[0m\n\u001b[0;32m---> 92\u001b[0;31m                 \u001b[0mself\u001b[0m\u001b[0;34m.\u001b[0m\u001b[0m_run_once\u001b[0m\u001b[0;34m(\u001b[0m\u001b[0;34m)\u001b[0m\u001b[0;34m\u001b[0m\u001b[0;34m\u001b[0m\u001b[0m\n\u001b[0m\u001b[1;32m     93\u001b[0m                 \u001b[0;32mif\u001b[0m \u001b[0mself\u001b[0m\u001b[0;34m.\u001b[0m\u001b[0m_stopping\u001b[0m\u001b[0;34m:\u001b[0m\u001b[0;34m\u001b[0m\u001b[0;34m\u001b[0m\u001b[0m\n\u001b[1;32m     94\u001b[0m                     \u001b[0;32mbreak\u001b[0m\u001b[0;34m\u001b[0m\u001b[0;34m\u001b[0m\u001b[0m\n",
            "\u001b[0;32m/usr/local/lib/python3.11/dist-packages/nest_asyncio.py\u001b[0m in \u001b[0;36m_run_once\u001b[0;34m(self)\u001b[0m\n\u001b[1;32m    131\u001b[0m \u001b[0;34m\u001b[0m\u001b[0m\n\u001b[1;32m    132\u001b[0m                 \u001b[0;32mtry\u001b[0m\u001b[0;34m:\u001b[0m\u001b[0;34m\u001b[0m\u001b[0;34m\u001b[0m\u001b[0m\n\u001b[0;32m--> 133\u001b[0;31m                     \u001b[0mhandle\u001b[0m\u001b[0;34m.\u001b[0m\u001b[0m_run\u001b[0m\u001b[0;34m(\u001b[0m\u001b[0;34m)\u001b[0m\u001b[0;34m\u001b[0m\u001b[0;34m\u001b[0m\u001b[0m\n\u001b[0m\u001b[1;32m    134\u001b[0m                 \u001b[0;32mfinally\u001b[0m\u001b[0;34m:\u001b[0m\u001b[0;34m\u001b[0m\u001b[0;34m\u001b[0m\u001b[0m\n\u001b[1;32m    135\u001b[0m                     \u001b[0;31m# restore the current task\u001b[0m\u001b[0;34m\u001b[0m\u001b[0;34m\u001b[0m\u001b[0m\n",
            "\u001b[0;32m/usr/lib/python3.11/asyncio/events.py\u001b[0m in \u001b[0;36m_run\u001b[0;34m(self)\u001b[0m\n\u001b[1;32m     82\u001b[0m     \u001b[0;32mdef\u001b[0m \u001b[0m_run\u001b[0m\u001b[0;34m(\u001b[0m\u001b[0mself\u001b[0m\u001b[0;34m)\u001b[0m\u001b[0;34m:\u001b[0m\u001b[0;34m\u001b[0m\u001b[0;34m\u001b[0m\u001b[0m\n\u001b[1;32m     83\u001b[0m         \u001b[0;32mtry\u001b[0m\u001b[0;34m:\u001b[0m\u001b[0;34m\u001b[0m\u001b[0;34m\u001b[0m\u001b[0m\n\u001b[0;32m---> 84\u001b[0;31m             \u001b[0mself\u001b[0m\u001b[0;34m.\u001b[0m\u001b[0m_context\u001b[0m\u001b[0;34m.\u001b[0m\u001b[0mrun\u001b[0m\u001b[0;34m(\u001b[0m\u001b[0mself\u001b[0m\u001b[0;34m.\u001b[0m\u001b[0m_callback\u001b[0m\u001b[0;34m,\u001b[0m \u001b[0;34m*\u001b[0m\u001b[0mself\u001b[0m\u001b[0;34m.\u001b[0m\u001b[0m_args\u001b[0m\u001b[0;34m)\u001b[0m\u001b[0;34m\u001b[0m\u001b[0;34m\u001b[0m\u001b[0m\n\u001b[0m\u001b[1;32m     85\u001b[0m         \u001b[0;32mexcept\u001b[0m \u001b[0;34m(\u001b[0m\u001b[0mSystemExit\u001b[0m\u001b[0;34m,\u001b[0m \u001b[0mKeyboardInterrupt\u001b[0m\u001b[0;34m)\u001b[0m\u001b[0;34m:\u001b[0m\u001b[0;34m\u001b[0m\u001b[0;34m\u001b[0m\u001b[0m\n\u001b[1;32m     86\u001b[0m             \u001b[0;32mraise\u001b[0m\u001b[0;34m\u001b[0m\u001b[0;34m\u001b[0m\u001b[0m\n",
            "\u001b[0;32m/usr/lib/python3.11/asyncio/tasks.py\u001b[0m in \u001b[0;36m__wakeup\u001b[0;34m(self, future)\u001b[0m\n\u001b[1;32m    358\u001b[0m             \u001b[0;31m# instead of `__next__()`, which is slower for futures\u001b[0m\u001b[0;34m\u001b[0m\u001b[0;34m\u001b[0m\u001b[0m\n\u001b[1;32m    359\u001b[0m             \u001b[0;31m# that return non-generator iterators from their `__iter__`.\u001b[0m\u001b[0;34m\u001b[0m\u001b[0;34m\u001b[0m\u001b[0m\n\u001b[0;32m--> 360\u001b[0;31m             \u001b[0mself\u001b[0m\u001b[0;34m.\u001b[0m\u001b[0m__step\u001b[0m\u001b[0;34m(\u001b[0m\u001b[0;34m)\u001b[0m\u001b[0;34m\u001b[0m\u001b[0;34m\u001b[0m\u001b[0m\n\u001b[0m\u001b[1;32m    361\u001b[0m         \u001b[0mself\u001b[0m \u001b[0;34m=\u001b[0m \u001b[0;32mNone\u001b[0m  \u001b[0;31m# Needed to break cycles when an exception occurs.\u001b[0m\u001b[0;34m\u001b[0m\u001b[0;34m\u001b[0m\u001b[0m\n\u001b[1;32m    362\u001b[0m \u001b[0;34m\u001b[0m\u001b[0m\n",
            "\u001b[0;32m/usr/lib/python3.11/asyncio/tasks.py\u001b[0m in \u001b[0;36m__step\u001b[0;34m(***failed resolving arguments***)\u001b[0m\n\u001b[1;32m    275\u001b[0m                 \u001b[0;31m# We use the `send` method directly, because coroutines\u001b[0m\u001b[0;34m\u001b[0m\u001b[0;34m\u001b[0m\u001b[0m\n\u001b[1;32m    276\u001b[0m                 \u001b[0;31m# don't have `__iter__` and `__next__` methods.\u001b[0m\u001b[0;34m\u001b[0m\u001b[0;34m\u001b[0m\u001b[0m\n\u001b[0;32m--> 277\u001b[0;31m                 \u001b[0mresult\u001b[0m \u001b[0;34m=\u001b[0m \u001b[0mcoro\u001b[0m\u001b[0;34m.\u001b[0m\u001b[0msend\u001b[0m\u001b[0;34m(\u001b[0m\u001b[0;32mNone\u001b[0m\u001b[0;34m)\u001b[0m\u001b[0;34m\u001b[0m\u001b[0;34m\u001b[0m\u001b[0m\n\u001b[0m\u001b[1;32m    278\u001b[0m             \u001b[0;32melse\u001b[0m\u001b[0;34m:\u001b[0m\u001b[0;34m\u001b[0m\u001b[0;34m\u001b[0m\u001b[0m\n\u001b[1;32m    279\u001b[0m                 \u001b[0mresult\u001b[0m \u001b[0;34m=\u001b[0m \u001b[0mcoro\u001b[0m\u001b[0;34m.\u001b[0m\u001b[0mthrow\u001b[0m\u001b[0;34m(\u001b[0m\u001b[0mexc\u001b[0m\u001b[0;34m)\u001b[0m\u001b[0;34m\u001b[0m\u001b[0;34m\u001b[0m\u001b[0m\n",
            "\u001b[0;32m/usr/local/lib/python3.11/dist-packages/uvicorn/server.py\u001b[0m in \u001b[0;36mserve\u001b[0;34m(self, sockets)\u001b[0m\n\u001b[1;32m     68\u001b[0m \u001b[0;34m\u001b[0m\u001b[0m\n\u001b[1;32m     69\u001b[0m     \u001b[0;32masync\u001b[0m \u001b[0;32mdef\u001b[0m \u001b[0mserve\u001b[0m\u001b[0;34m(\u001b[0m\u001b[0mself\u001b[0m\u001b[0;34m,\u001b[0m \u001b[0msockets\u001b[0m\u001b[0;34m:\u001b[0m \u001b[0mlist\u001b[0m\u001b[0;34m[\u001b[0m\u001b[0msocket\u001b[0m\u001b[0;34m.\u001b[0m\u001b[0msocket\u001b[0m\u001b[0;34m]\u001b[0m \u001b[0;34m|\u001b[0m \u001b[0;32mNone\u001b[0m \u001b[0;34m=\u001b[0m \u001b[0;32mNone\u001b[0m\u001b[0;34m)\u001b[0m \u001b[0;34m->\u001b[0m \u001b[0;32mNone\u001b[0m\u001b[0;34m:\u001b[0m\u001b[0;34m\u001b[0m\u001b[0;34m\u001b[0m\u001b[0m\n\u001b[0;32m---> 70\u001b[0;31m         \u001b[0;32mwith\u001b[0m \u001b[0mself\u001b[0m\u001b[0;34m.\u001b[0m\u001b[0mcapture_signals\u001b[0m\u001b[0;34m(\u001b[0m\u001b[0;34m)\u001b[0m\u001b[0;34m:\u001b[0m\u001b[0;34m\u001b[0m\u001b[0;34m\u001b[0m\u001b[0m\n\u001b[0m\u001b[1;32m     71\u001b[0m             \u001b[0;32mawait\u001b[0m \u001b[0mself\u001b[0m\u001b[0;34m.\u001b[0m\u001b[0m_serve\u001b[0m\u001b[0;34m(\u001b[0m\u001b[0msockets\u001b[0m\u001b[0;34m)\u001b[0m\u001b[0;34m\u001b[0m\u001b[0;34m\u001b[0m\u001b[0m\n\u001b[1;32m     72\u001b[0m \u001b[0;34m\u001b[0m\u001b[0m\n",
            "\u001b[0;32m/usr/lib/python3.11/contextlib.py\u001b[0m in \u001b[0;36m__exit__\u001b[0;34m(self, typ, value, traceback)\u001b[0m\n\u001b[1;32m    142\u001b[0m         \u001b[0;32mif\u001b[0m \u001b[0mtyp\u001b[0m \u001b[0;32mis\u001b[0m \u001b[0;32mNone\u001b[0m\u001b[0;34m:\u001b[0m\u001b[0;34m\u001b[0m\u001b[0;34m\u001b[0m\u001b[0m\n\u001b[1;32m    143\u001b[0m             \u001b[0;32mtry\u001b[0m\u001b[0;34m:\u001b[0m\u001b[0;34m\u001b[0m\u001b[0;34m\u001b[0m\u001b[0m\n\u001b[0;32m--> 144\u001b[0;31m                 \u001b[0mnext\u001b[0m\u001b[0;34m(\u001b[0m\u001b[0mself\u001b[0m\u001b[0;34m.\u001b[0m\u001b[0mgen\u001b[0m\u001b[0;34m)\u001b[0m\u001b[0;34m\u001b[0m\u001b[0;34m\u001b[0m\u001b[0m\n\u001b[0m\u001b[1;32m    145\u001b[0m             \u001b[0;32mexcept\u001b[0m \u001b[0mStopIteration\u001b[0m\u001b[0;34m:\u001b[0m\u001b[0;34m\u001b[0m\u001b[0;34m\u001b[0m\u001b[0m\n\u001b[1;32m    146\u001b[0m                 \u001b[0;32mreturn\u001b[0m \u001b[0;32mFalse\u001b[0m\u001b[0;34m\u001b[0m\u001b[0;34m\u001b[0m\u001b[0m\n",
            "\u001b[0;32m/usr/local/lib/python3.11/dist-packages/uvicorn/server.py\u001b[0m in \u001b[0;36mcapture_signals\u001b[0;34m(self)\u001b[0m\n\u001b[1;32m    329\u001b[0m         \u001b[0;31m# done LIFO, see https://stackoverflow.com/questions/48434964\u001b[0m\u001b[0;34m\u001b[0m\u001b[0;34m\u001b[0m\u001b[0m\n\u001b[1;32m    330\u001b[0m         \u001b[0;32mfor\u001b[0m \u001b[0mcaptured_signal\u001b[0m \u001b[0;32min\u001b[0m \u001b[0mreversed\u001b[0m\u001b[0;34m(\u001b[0m\u001b[0mself\u001b[0m\u001b[0;34m.\u001b[0m\u001b[0m_captured_signals\u001b[0m\u001b[0;34m)\u001b[0m\u001b[0;34m:\u001b[0m\u001b[0;34m\u001b[0m\u001b[0;34m\u001b[0m\u001b[0m\n\u001b[0;32m--> 331\u001b[0;31m             \u001b[0msignal\u001b[0m\u001b[0;34m.\u001b[0m\u001b[0mraise_signal\u001b[0m\u001b[0;34m(\u001b[0m\u001b[0mcaptured_signal\u001b[0m\u001b[0;34m)\u001b[0m\u001b[0;34m\u001b[0m\u001b[0;34m\u001b[0m\u001b[0m\n\u001b[0m\u001b[1;32m    332\u001b[0m \u001b[0;34m\u001b[0m\u001b[0m\n\u001b[1;32m    333\u001b[0m     \u001b[0;32mdef\u001b[0m \u001b[0mhandle_exit\u001b[0m\u001b[0;34m(\u001b[0m\u001b[0mself\u001b[0m\u001b[0;34m,\u001b[0m \u001b[0msig\u001b[0m\u001b[0;34m:\u001b[0m \u001b[0mint\u001b[0m\u001b[0;34m,\u001b[0m \u001b[0mframe\u001b[0m\u001b[0;34m:\u001b[0m \u001b[0mFrameType\u001b[0m \u001b[0;34m|\u001b[0m \u001b[0;32mNone\u001b[0m\u001b[0;34m)\u001b[0m \u001b[0;34m->\u001b[0m \u001b[0;32mNone\u001b[0m\u001b[0;34m:\u001b[0m\u001b[0;34m\u001b[0m\u001b[0;34m\u001b[0m\u001b[0m\n",
            "\u001b[0;31mKeyboardInterrupt\u001b[0m: "
          ]
        }
      ],
      "source": [
        "if __name__ == \"__main__\":\n",
        "    nest_asyncio.apply()\n",
        "    public_url = ngrok.connect(8000).public_url\n",
        "    print(\"Ваш FastAPI backend доступен по адресу:\", public_url)\n",
        "\n",
        "    # Конфигурация и запуск Uvicorn\n",
        "    config = uvicorn.Config(app=app, host=\"0.0.0.0\", port=8000, log_level=\"info\")\n",
        "    server = uvicorn.Server(config)\n",
        "    server.run()"
      ]
    }
  ],
  "metadata": {
    "colab": {
      "provenance": []
    },
    "kernelspec": {
      "display_name": "Python 3",
      "name": "python3"
    },
    "language_info": {
      "name": "python"
    }
  },
  "nbformat": 4,
  "nbformat_minor": 0
}